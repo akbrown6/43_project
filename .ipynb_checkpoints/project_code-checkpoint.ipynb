{
 "cells": [
  {
   "cell_type": "markdown",
   "id": "e607134b-f8c4-4f01-83cb-9fc6ba651527",
   "metadata": {},
   "source": [
    "This notebook will contain project code"
   ]
  },
  {
   "cell_type": "markdown",
   "id": "795ae8ad-0acf-4bf9-9e0c-58193e4082bf",
   "metadata": {},
   "source": [
    "Test"
   ]
  },
  {
   "cell_type": "code",
   "execution_count": null,
   "id": "94a6a093-4824-47f5-85ea-b326de8175d3",
   "metadata": {},
   "outputs": [],
   "source": []
  }
 ],
 "metadata": {
  "kernelspec": {
   "display_name": "R",
   "language": "R",
   "name": "ir"
  },
  "language_info": {
   "codemirror_mode": "r",
   "file_extension": ".r",
   "mimetype": "text/x-r-source",
   "name": "R",
   "pygments_lexer": "r",
   "version": "4.3.3"
  }
 },
 "nbformat": 4,
 "nbformat_minor": 5
}
