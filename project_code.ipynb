{
 "cells": [
  {
   "cell_type": "markdown",
   "id": "e607134b-f8c4-4f01-83cb-9fc6ba651527",
   "metadata": {},
   "source": [
    "This notebook will contain project code"
   ]
  },
  {
   "cell_type": "code",
   "execution_count": null,
   "id": "9824b7b9-0e9e-45b6-bdb2-2e901eb36657",
   "metadata": {},
   "outputs": [],
   "source": []
  }
 ],
 "metadata": {
  "kernelspec": {
   "display_name": "R",
   "language": "R",
   "name": "ir"
  },
  "language_info": {
   "codemirror_mode": "r",
   "file_extension": ".r",
   "mimetype": "text/x-r-source",
   "name": "R",
   "pygments_lexer": "r",
   "version": "4.3.3"
  }
 },
 "nbformat": 4,
 "nbformat_minor": 5
}
