{
 "cells": [
  {
   "cell_type": "markdown",
   "id": "e607134b-f8c4-4f01-83cb-9fc6ba651527",
   "metadata": {},
   "source": [
    "This notebook will contain project code"
   ]
  },
  {
   "cell_type": "markdown",
   "id": "795ae8ad-0acf-4bf9-9e0c-58193e4082bf",
   "metadata": {},
   "source": [
    "Test"
   ]
  },
  {
   "cell_type": "code",
   "execution_count": null,
   "id": "b91530fa-bb27-4571-8bd0-f1beca602ad5",
   "metadata": {},
   "outputs": [],
   "source": []
  }
 ],
 "metadata": {
  "kernelspec": {
   "display_name": "R",
   "language": "R",
   "name": "ir"
  },
  "language_info": {
   "codemirror_mode": "r",
   "file_extension": ".r",
   "mimetype": "text/x-r-source",
   "name": "R",
   "pygments_lexer": "r",
   "version": "4.3.3"
  }
 },
 "nbformat": 4,
 "nbformat_minor": 5
}
